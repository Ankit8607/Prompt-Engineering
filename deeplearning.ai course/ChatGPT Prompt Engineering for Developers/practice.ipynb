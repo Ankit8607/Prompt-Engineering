{
  "cells": [
    {
      "cell_type": "code",
      "execution_count": 1,
      "metadata": {},
      "outputs": [
        {
          "name": "stdout",
          "output_type": "stream",
          "text": [
            "env: OPENAI_API_KEY=sk-FojcZfGnCBvv7M5mG\n"
          ]
        }
      ],
      "source": [
        "# os.environ['OPENAI_API_KEY'] = 'your_actual_api_key'\n",
        "# %env OPENAI_API_KEY='sk-FEUxOwZF'\n",
        "%env OPENAI_API_KEY=sk-FojcZfGnCBvv7M5mG"
      ]
    },
    {
      "cell_type": "code",
      "execution_count": 2,
      "metadata": {
        "id": "pOifzHSgcy2a"
      },
      "outputs": [
        {
          "name": "stdout",
          "output_type": "stream",
          "text": [
            "sk-FojcZfGnCBvv7M5mG\n"
          ]
        },
        {
          "name": "stderr",
          "output_type": "stream",
          "text": [
            "/Users/ankitkumar/Coding/Prompt Engineering/venv/lib/python3.9/site-packages/urllib3/__init__.py:34: NotOpenSSLWarning: urllib3 v2 only supports OpenSSL 1.1.1+, currently the 'ssl' module is compiled with 'LibreSSL 2.8.3'. See: https://github.com/urllib3/urllib3/issues/3020\n",
            "  warnings.warn(\n"
          ]
        }
      ],
      "source": [
        "import openai\n",
        "import os\n",
        "\n",
        "from dotenv import load_dotenv, find_dotenv\n",
        "_ = load_dotenv(find_dotenv())\n",
        "\n",
        "# # Get all environment variables\n",
        "# env_variables = os.environ\n",
        "\n",
        "# # Print each variable and its value\n",
        "# for key, value in env_variables.items():\n",
        "#     print(f\"{key}: {value}\")\n",
        "\n",
        "print(os.getenv('OPENAI_API_KEY'))\n",
        "\n",
        "openai.api_key = os.getenv('OPENAI_API_KEY')"
      ]
    },
    {
      "cell_type": "code",
      "execution_count": 29,
      "metadata": {},
      "outputs": [],
      "source": [
        "def get_completion(prompt, model=\"gpt-3.5-turbo\"):\n",
        "    messages = [{\"role\": \"user\", \"content\": prompt}]\n",
        "    response = openai.ChatCompletion.create(\n",
        "        model=model,\n",
        "        messages=messages,\n",
        "        temperature=0, # this is the degree of randomness of the model's output\n",
        "    )\n",
        "    return response.choices[0].message[\"content\"]"
      ]
    },
    {
      "cell_type": "code",
      "execution_count": 32,
      "metadata": {},
      "outputs": [
        {
          "name": "stdout",
          "output_type": "stream",
          "text": [
            "- Name: Ankit Kumar\n",
            "- Education: Final year undergraduate student\n",
            "- Department: Mechanical Engineering\n",
            "- Institution: IIT Kharagpur\n",
            "- Interests: Exploring generative AI and prompt engineering\n",
            "- Career goal: Pursuing a career in the software field\n",
            "- Hometown: Sirsa, Haryana, India\n",
            "- Hobbies: Playing sports\n",
            "I'm sorry, but I cannot provide a name without any context or information about the person you are referring to.\n"
          ]
        }
      ],
      "source": [
        "text = f\"\"\" Hi i am ankit kumar, a final year undergraduate of the department of mechanilcal engineegin at IIT Kharagpur. I am enthusiast to explore geenrative AI and prompt engineering. I am enjoy to do coding and want to pursure my caarer in software field. I am from sirsa haryana india. My hobbies are playing sports.\"\"\"\n",
        "\n",
        "prompt = f\"\"\" An introduction is given of a student enclosed in <>, can you give the main points out of it. Introduction is: <{text}>\"\"\"\n",
        "response = get_completion(prompt)\n",
        "print(response)\n",
        "prompt2 = \"what is his name\"\n",
        "response = get_completion(prompt2)\n",
        "print(response)"
      ]
    },
    {
      "cell_type": "code",
      "execution_count": 31,
      "metadata": {},
      "outputs": [
        {
          "name": "stdout",
          "output_type": "stream",
          "text": [
            "I'm sorry, but I cannot provide a name without any context or information about the person you are referring to.\n"
          ]
        }
      ],
      "source": [
        "prompt2 = \"what is his name\"\n",
        "response = get_completion(prompt2)\n",
        "print(response)"
      ]
    },
    {
      "cell_type": "code",
      "execution_count": null,
      "metadata": {},
      "outputs": [],
      "source": []
    }
  ],
  "metadata": {
    "colab": {
      "provenance": []
    },
    "kernelspec": {
      "display_name": "Python 3",
      "name": "python3"
    },
    "language_info": {
      "codemirror_mode": {
        "name": "ipython",
        "version": 3
      },
      "file_extension": ".py",
      "mimetype": "text/x-python",
      "name": "python",
      "nbconvert_exporter": "python",
      "pygments_lexer": "ipython3",
      "version": "3.9.6"
    }
  },
  "nbformat": 4,
  "nbformat_minor": 0
}
